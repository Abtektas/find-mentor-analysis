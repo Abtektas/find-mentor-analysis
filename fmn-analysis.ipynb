{
 "cells": [
  {
   "cell_type": "code",
   "execution_count": null,
   "metadata": {},
   "outputs": [],
   "source": [
    "import pandas as pd\n",
    "import json\n",
    "import requests\n",
    "import plotly.express as px\n",
    "import plotly.graph_objects as go"
   ]
  },
  {
   "cell_type": "code",
   "execution_count": null,
   "metadata": {},
   "outputs": [],
   "source": [
    "urlPersonsJson = 'https://findmentor.network/persons.json'\n",
    "requestData = requests.get(urlPersonsJson)\n",
    "dataJson = json.loads(requestData.content)"
   ]
  },
  {
   "cell_type": "code",
   "execution_count": null,
   "metadata": {},
   "outputs": [],
   "source": [
    "personsDF = pd.DataFrame(dataJson)"
   ]
  },
  {
   "cell_type": "code",
   "execution_count": null,
   "metadata": {},
   "outputs": [],
   "source": [
    "list(personsDF.columns)"
   ]
  },
  {
   "cell_type": "code",
   "execution_count": null,
   "metadata": {},
   "outputs": [],
   "source": [
    "sumPeople = personsDF.mentor.index.value_counts().sum()"
   ]
  },
  {
   "cell_type": "code",
   "execution_count": null,
   "metadata": {},
   "outputs": [],
   "source": [
    "#İkisi de = Both role\n",
    "bothRolePeople = personsDF['mentor'].str.contains(\"İkisi de\")\n",
    "bothRoleSum = personsDF[bothRolePeople].index.value_counts().sum()"
   ]
  },
  {
   "cell_type": "code",
   "execution_count": null,
   "metadata": {},
   "outputs": [],
   "source": [
    "mentorPeople = personsDF['mentor'].str.contains(\"Mentor\")\n",
    "mentorSum = personsDF[mentorPeople].index.value_counts().sum()"
   ]
  },
  {
   "cell_type": "code",
   "execution_count": null,
   "metadata": {},
   "outputs": [],
   "source": [
    "menteePeople = personsDF['mentor'].str.contains(\"Mentee\")\n",
    "menteeSum = personsDF[menteePeople].index.value_counts().sum()"
   ]
  },
  {
   "cell_type": "code",
   "execution_count": null,
   "metadata": {},
   "outputs": [],
   "source": [
    "personsDF['mentor'].value_counts()"
   ]
  },
  {
   "cell_type": "code",
   "execution_count": null,
   "metadata": {},
   "outputs": [],
   "source": [
    "roleLabels = ['Mentee','Both Role','Mentor']\n",
    "roleValues = [menteeSum,  bothRoleSum, mentorSum]\n",
    "titleText = \"Participants Role in Community\"\n",
    "\n",
    "#The next line is for graph objects version.\n",
    "#figPie = go.Figure(data=[go.Pie(labels=labels, values=values)],layout_title_text=titleText)\n",
    "\n",
    "figPie = px.pie(values=roleValues,names=roleLabels,title=titleText)\n",
    "\n",
    "figPie.update_traces(textposition='outside', textinfo='label+value+percent')\n",
    "figPie.show()"
   ]
  },
  {
   "cell_type": "code",
   "execution_count": null,
   "metadata": {},
   "outputs": [],
   "source": [
    "#After an overview of participants' input in the interests section in persons.json, \n",
    "#these keywords saved in a list that related to their interest fields.\n",
    "\n",
    "frontendKeywords = 'frontend|front-end|front end|fe|html|css|vue|vuejs|nuxtjs|nuxt|Angular'\n",
    "backendKeywords = 'backend|beckend|back-end|back end|php|.net|spring|django|rails|node|nodejs|node.js|node js|flask|laravel|symfony'\n",
    "fullstackKeywords = 'web|full-stack|fullstack|full stack|fullstack-web-developer'\n",
    "mobileKeywords = 'andorid|ionic|swift ui|swiftui|swift-ui|android|ios|react native|reactnative|react-native|flutter|kotlin|swift|mobile|mobil'\n",
    "cyberKeywords = 'network|secops|cyber|cyberr|security'\n",
    "aiKeywords = 'ml|dl|nlp|r lang|data|r-lang|AI|artificial intelligence|computer vision|artificialintelligence|artificial-intelligence|deep-learning|deeplearning|deep learning|data science|sql|tableau|datascience|data-science|machinelearning|machine-learning|machine learning'\n",
    "devopsKeywords = 'sysadmin|continuous delivery|ci-cd|microservices|scalability|scaling|distributed systems|aws|cloud|gcp|go|golang|go lang|go-lang|rust|devops|dev ops|dev-ops|docker|k8s|kubernetes|serverless'"
   ]
  },
  {
   "cell_type": "code",
   "execution_count": null,
   "metadata": {},
   "outputs": [],
   "source": [
    "#Filtering keywords in interests from keywords lists. \n",
    "\n",
    "frontendPeople = personsDF['interests'].str.contains(frontendKeywords)\n",
    "backendPeople = personsDF['interests'].str.contains(backendKeywords)\n",
    "fullstackPeople = personsDF['interests'].str.contains(fullstackKeywords) \n",
    "mobilePeople = personsDF['interests'].str.contains(mobileKeywords)\n",
    "cyberPeople = personsDF['interests'].str.contains(cyberKeywords)\n",
    "aiPeople = personsDF['interests'].str.contains(aiKeywords)\n",
    "devopsPeople = personsDF['interests'].str.contains(devopsKeywords)"
   ]
  },
  {
   "cell_type": "code",
   "execution_count": null,
   "metadata": {},
   "outputs": [],
   "source": [
    "#It will be converting to dataframes and getting the sum of them each. \n",
    "\n",
    "frontendPeopleSum = personsDF[frontendPeople].index.value_counts().sum()\n",
    "\n",
    "backendPeopleSum = personsDF[backendPeople].index.value_counts().sum()\n",
    "\n",
    "#There is an exceptional status, some people write their full-stack interest as a split way. \n",
    "#So there will be using and gate for between backend and frontend.\n",
    "fullstackPeopleSum = personsDF[(fullstackPeople)|((frontendPeople)&(backendPeople))].index.value_counts().sum()\n",
    "\n",
    "mobilePeopleSum = personsDF[mobilePeople].index.value_counts().sum()\n",
    "\n",
    "cyberPeopleSum = personsDF[cyberPeople].index.value_counts().sum()\n",
    "\n",
    "aiPeopleSum = personsDF[aiPeople].index.value_counts().sum()\n",
    "\n",
    "devopsPeopleSum = personsDF[devopsPeople].index.value_counts().sum()"
   ]
  },
  {
   "cell_type": "code",
   "execution_count": null,
   "metadata": {},
   "outputs": [],
   "source": [
    "#Filtering frontend's keywords and getting sum for mentor and mentees. \n",
    "frontMentor = personsDF[frontendPeople & mentorPeople]\n",
    "frontMentorSum = frontMentor.index.value_counts().sum()\n",
    "\n",
    "frontMentee = personsDF[frontendPeople & menteePeople]\n",
    "frontMenteeSum = frontMentee.index.value_counts().sum()"
   ]
  },
  {
   "cell_type": "code",
   "execution_count": null,
   "metadata": {},
   "outputs": [],
   "source": [
    "#Filtering backend's keywords and getting sum for mentor and mentees.\n",
    "backMentor = personsDF[backendPeople & mentorPeople]\n",
    "backMentorSum = backMentor.index.value_counts().sum()\n",
    "\n",
    "backMentee = personsDF[backendPeople & menteePeople]\n",
    "backMenteeSum = backMentee.index.value_counts().sum()"
   ]
  },
  {
   "cell_type": "code",
   "execution_count": null,
   "metadata": {},
   "outputs": [],
   "source": [
    "#Filtering devops' keywords and getting sum for mentor and mentees.\n",
    "devMentor = personsDF[devopsPeople & mentorPeople]\n",
    "devMentorSum = devMentor.index.value_counts().sum()\n",
    "\n",
    "devMentee = personsDF[devopsPeople & menteePeople]\n",
    "devMenteeSum = devMentee.index.value_counts().sum()"
   ]
  },
  {
   "cell_type": "code",
   "execution_count": null,
   "metadata": {},
   "outputs": [],
   "source": [
    "#Filtering AI's keywords and getting sum for mentor and mentees.\n",
    "aiMentor = personsDF[aiPeople & mentorPeople]\n",
    "aiMentorSum = aiMentor.index.value_counts().sum()\n",
    "\n",
    "aiMentee = personsDF[aiPeople & menteePeople]\n",
    "aiMenteeSum = aiMentee.index.value_counts().sum()"
   ]
  },
  {
   "cell_type": "code",
   "execution_count": null,
   "metadata": {},
   "outputs": [],
   "source": [
    "#Filtering cyber security's keywords and getting sum for mentor and mentees.\n",
    "cyberMentor = personsDF[cyberPeople & mentorPeople]\n",
    "cyberMentorSum = cyberMentor.index.value_counts().sum()\n",
    "\n",
    "cyberMentee = personsDF[cyberPeople & menteePeople]\n",
    "cyberMenteeSum = cyberMentee.index.value_counts().sum()"
   ]
  },
  {
   "cell_type": "code",
   "execution_count": null,
   "metadata": {},
   "outputs": [],
   "source": [
    "#Filtering fullstack's keywords and getting sum for mentor and mentees.\n",
    "fullstackMentor = personsDF[fullstackPeople & mentorPeople]\n",
    "fullstackMentorSum = fullstackMentor.index.value_counts().sum()\n",
    "\n",
    "fullstackMentee = personsDF[fullstackPeople & menteePeople]\n",
    "fullstackMenteeSum = fullstackMentee.index.value_counts().sum()"
   ]
  },
  {
   "cell_type": "code",
   "execution_count": null,
   "metadata": {},
   "outputs": [],
   "source": [
    "#Filtering mobile dev's keywords and getting sum for mentor and mentees.\n",
    "mobileMentor = personsDF[mobilePeople & mentorPeople]\n",
    "mobileMentorSum = mobileMentor.index.value_counts().sum()\n",
    "\n",
    "mobileMentee = personsDF[mobilePeople & menteePeople]\n",
    "mobileMenteeSum = mobileMentee.index.value_counts().sum()"
   ]
  },
  {
   "cell_type": "code",
   "execution_count": null,
   "metadata": {},
   "outputs": [],
   "source": [
    "#In our plots, this list's items will be using for values' labels.\n",
    "labelsAll = ['Devops','AI','Mobile','Fullstack','Frontend','Backend','Cyber Security']"
   ]
  },
  {
   "cell_type": "code",
   "execution_count": null,
   "metadata": {},
   "outputs": [],
   "source": [
    "valuesParticipant = [\n",
    "    devopsPeopleSum,\n",
    "    aiPeopleSum,\n",
    "    mobilePeopleSum,\n",
    "    fullstackPeopleSum,\n",
    "    frontendPeopleSum,\n",
    "    backendPeopleSum,\n",
    "    cyberPeopleSum,\n",
    "]\n",
    "\n",
    "figBar = px.bar(\n",
    "    x=labelsAll,\n",
    "    y=valuesParticipant,\n",
    "    color=labelsAll,\n",
    "    text=valuesParticipant,\n",
    "    title=\"Interests of All Participants\",\n",
    ")\n",
    "\n",
    "figBar.update_traces(textposition=\"outside\")\n",
    "figBar.update_layout(\n",
    "    xaxis={\"categoryorder\": \"total descending\"},\n",
    "    yaxis={\"categoryorder\": \"total descending\"},\n",
    "    legend_title=\"\",\n",
    ")"
   ]
  },
  {
   "cell_type": "code",
   "execution_count": null,
   "metadata": {},
   "outputs": [],
   "source": [
    "# labelsMentor = ['Mobile','Fullstack','Cyber Security','AI','Devops','Backend','Frontend']\n",
    "valuesMentor = [\n",
    "    devMentorSum,\n",
    "    aiMentorSum,\n",
    "    mobileMentorSum,\n",
    "    fullstackMentorSum,\n",
    "    frontMentorSum,\n",
    "    backMentorSum,\n",
    "    cyberMentorSum,\n",
    "]\n",
    "mentorTitle = \"Interests of Mentors\"\n",
    "\n",
    "figMentorPie = go.Figure(\n",
    "    data=[go.Pie(labels=labelsAll, values=valuesMentor, hole=0.3, sort=True)],\n",
    "    layout_title_text=mentorTitle,\n",
    ")\n",
    "\n",
    "figMentorPie.update_traces(textposition=\"outside\", textinfo=\"label+value+percent\")\n",
    "figMentorPie.show()"
   ]
  },
  {
   "cell_type": "code",
   "execution_count": null,
   "metadata": {},
   "outputs": [],
   "source": [
    "valuesMentee = [\n",
    "    devMenteeSum,\n",
    "    aiMenteeSum,\n",
    "    mobileMenteeSum,\n",
    "    fullstackMenteeSum,\n",
    "    frontMenteeSum,\n",
    "    backMenteeSum,\n",
    "    cyberMenteeSum,\n",
    "]\n",
    "menteeTitle = \"Interests of Mentees\"\n",
    "\n",
    "figMenteePie = go.Figure(\n",
    "    data=[go.Pie(labels=labelsAll, values=valuesMentee, hole=0.3, sort=True)],\n",
    "    layout_title_text=menteeTitle,\n",
    ")\n",
    "\n",
    "figMenteePie.update_traces(textposition=\"outside\", textinfo=\"label+value+percent\")\n",
    "figMenteePie.show()"
   ]
  },
  {
   "cell_type": "code",
   "execution_count": null,
   "metadata": {},
   "outputs": [],
   "source": [
    "comparisonTitle = \"Mentor-Mentees' Comparison Based on Interests\"\n",
    "\n",
    "figComparison = go.Figure()\n",
    "figComparison.add_trace(\n",
    "    go.Bar(\n",
    "        x=labelsAll,\n",
    "        y=valuesMentee,\n",
    "        name=\"Mentee\",\n",
    "        texttemplate=valuesMentee,\n",
    "        textposition=\"outside\",\n",
    "        textfont_color=\"black\",\n",
    "        marker_color=\"#4361ee\",\n",
    "    )\n",
    ")\n",
    "figComparison.add_trace(\n",
    "    go.Bar(\n",
    "        x=labelsAll,\n",
    "        y=valuesMentor,\n",
    "        name=\"Mentor\",\n",
    "        texttemplate=valuesMentor,\n",
    "        textposition=\"outside\",\n",
    "        textfont_color=\"blue\",\n",
    "        marker_color=\"#f72585\",\n",
    "    )\n",
    ")\n",
    "figComparison.update_layout(\n",
    "    title_text=comparisonTitle,\n",
    "    xaxis={\"categoryorder\": \"total descending\"},\n",
    "    yaxis={\"categoryorder\": \"total descending\"},\n",
    "    legend_title=\"\",\n",
    "    barmode=\"group\",\n",
    "    bargap=0.15,\n",
    ")"
   ]
  }
 ],
 "metadata": {
  "kernelspec": {
   "display_name": "Python 3",
   "language": "python",
   "name": "python3"
  },
  "language_info": {
   "codemirror_mode": {
    "name": "ipython",
    "version": 3
   },
   "file_extension": ".py",
   "mimetype": "text/x-python",
   "name": "python",
   "nbconvert_exporter": "python",
   "pygments_lexer": "ipython3",
   "version": "3.8.3"
  }
 },
 "nbformat": 4,
 "nbformat_minor": 4
}
